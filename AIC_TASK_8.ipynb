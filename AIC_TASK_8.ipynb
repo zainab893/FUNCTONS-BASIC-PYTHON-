{
  "nbformat": 4,
  "nbformat_minor": 0,
  "metadata": {
    "colab": {
      "provenance": []
    },
    "kernelspec": {
      "name": "python3",
      "display_name": "Python 3"
    },
    "language_info": {
      "name": "python"
    }
  },
  "cells": [
    {
      "cell_type": "code",
      "execution_count": 3,
      "metadata": {
        "id": "c27c0zmMSK8p"
      },
      "outputs": [],
      "source": [
        "# SYEDA ZAIANB FATIMA\n",
        "# WS25-PAK-INP-AI01"
      ]
    },
    {
      "cell_type": "code",
      "source": [
        "# FUNCTIONS"
      ],
      "metadata": {
        "id": "wxTMLtNr22Mn"
      },
      "execution_count": 4,
      "outputs": []
    },
    {
      "cell_type": "code",
      "source": [
        "# WITHOUT PARAMETERS\n",
        "def my_function():\n",
        "  print(\"hello world\")"
      ],
      "metadata": {
        "id": "j2K4tVI622T6"
      },
      "execution_count": 5,
      "outputs": []
    },
    {
      "cell_type": "code",
      "source": [
        "my_function()"
      ],
      "metadata": {
        "colab": {
          "base_uri": "https://localhost:8080/"
        },
        "id": "gfwy8EIo35xR",
        "outputId": "5cfa46d4-b1c2-4412-eaf9-6d167e7f927d"
      },
      "execution_count": 6,
      "outputs": [
        {
          "output_type": "stream",
          "name": "stdout",
          "text": [
            "hello world\n"
          ]
        }
      ]
    },
    {
      "cell_type": "code",
      "source": [
        "def show_number():\n",
        "    print(5)\n",
        "show_number()"
      ],
      "metadata": {
        "colab": {
          "base_uri": "https://localhost:8080/"
        },
        "id": "fAruTtF0355q",
        "outputId": "68cc37dc-4d2a-4c5a-91e2-c58daaa49d08"
      },
      "execution_count": 7,
      "outputs": [
        {
          "output_type": "stream",
          "name": "stdout",
          "text": [
            "5\n"
          ]
        }
      ]
    },
    {
      "cell_type": "code",
      "source": [
        "def display_message():\n",
        "    print(\"This is a simple function.\")\n",
        "display_message()"
      ],
      "metadata": {
        "colab": {
          "base_uri": "https://localhost:8080/"
        },
        "id": "pgpmniHN45rW",
        "outputId": "6ae39c1e-8cf8-4d52-8266-7062888a5a96"
      },
      "execution_count": 8,
      "outputs": [
        {
          "output_type": "stream",
          "name": "stdout",
          "text": [
            "This is a simple function.\n"
          ]
        }
      ]
    },
    {
      "cell_type": "code",
      "source": [
        "def count_to_three():\n",
        "    print(\"1, 2, 3\")\n",
        "count_to_three()"
      ],
      "metadata": {
        "colab": {
          "base_uri": "https://localhost:8080/"
        },
        "id": "9E6Twexl45uf",
        "outputId": "ab6b7c51-9f33-4ce1-c855-bc64ee57940e"
      },
      "execution_count": 9,
      "outputs": [
        {
          "output_type": "stream",
          "name": "stdout",
          "text": [
            "1, 2, 3\n"
          ]
        }
      ]
    },
    {
      "cell_type": "code",
      "source": [
        "def say_goodbye():\n",
        "    print(\"Goodbye!\")\n",
        "say_goodbye()"
      ],
      "metadata": {
        "colab": {
          "base_uri": "https://localhost:8080/"
        },
        "id": "SYAUXn9n45xd",
        "outputId": "9c79a070-bb11-4f59-cd5b-29a97fb30281"
      },
      "execution_count": 10,
      "outputs": [
        {
          "output_type": "stream",
          "name": "stdout",
          "text": [
            "Goodbye!\n"
          ]
        }
      ]
    },
    {
      "cell_type": "code",
      "source": [
        "# WITH PARAMETERS\n",
        "def greet(name):\n",
        "    print(f\"Hi, {name}!\")\n",
        "greet(\"Ali\")"
      ],
      "metadata": {
        "colab": {
          "base_uri": "https://localhost:8080/"
        },
        "id": "EpIVzhCJ450a",
        "outputId": "c13d9de2-c77b-412d-9859-922b7e8e9a40"
      },
      "execution_count": 11,
      "outputs": [
        {
          "output_type": "stream",
          "name": "stdout",
          "text": [
            "Hi, Ali!\n"
          ]
        }
      ]
    },
    {
      "cell_type": "code",
      "source": [
        "def double_number(number):\n",
        "    print(number * 2)\n",
        "double_number(4)"
      ],
      "metadata": {
        "colab": {
          "base_uri": "https://localhost:8080/"
        },
        "id": "BDxBZ96h453Y",
        "outputId": "b72afb94-0f03-47ec-91db-30164a330643"
      },
      "execution_count": 12,
      "outputs": [
        {
          "output_type": "stream",
          "name": "stdout",
          "text": [
            "8\n"
          ]
        }
      ]
    },
    {
      "cell_type": "code",
      "source": [
        "def add(a, b):\n",
        "    print(a + b)\n",
        "add(2, 3)"
      ],
      "metadata": {
        "colab": {
          "base_uri": "https://localhost:8080/"
        },
        "id": "egUGk2WU46JM",
        "outputId": "5f538b32-8bc3-4079-ee54-bdc60f831d91"
      },
      "execution_count": 13,
      "outputs": [
        {
          "output_type": "stream",
          "name": "stdout",
          "text": [
            "5\n"
          ]
        }
      ]
    },
    {
      "cell_type": "code",
      "source": [
        "def repeat(word):\n",
        "    print(word * 3)\n",
        "repeat(\"Hey! \")"
      ],
      "metadata": {
        "colab": {
          "base_uri": "https://localhost:8080/"
        },
        "id": "BtGiGGji46MI",
        "outputId": "7ab1717d-1af8-42de-f638-9dcb80f351ad"
      },
      "execution_count": 14,
      "outputs": [
        {
          "output_type": "stream",
          "name": "stdout",
          "text": [
            "Hey! Hey! Hey! \n"
          ]
        }
      ]
    },
    {
      "cell_type": "code",
      "source": [
        "def is_positive(number):\n",
        "    if number > 0:\n",
        "        print(\"Positive number\")\n",
        "    else:\n",
        "        print(\"Not a positive number\")\n",
        "is_positive(5)\n"
      ],
      "metadata": {
        "colab": {
          "base_uri": "https://localhost:8080/"
        },
        "id": "laO-wQOD46PY",
        "outputId": "d9d6f513-c729-4c9b-b481-900c93609bc8"
      },
      "execution_count": 15,
      "outputs": [
        {
          "output_type": "stream",
          "name": "stdout",
          "text": [
            "Positive number\n"
          ]
        }
      ]
    },
    {
      "cell_type": "code",
      "source": [
        "# DEFAULT PARAMETERS\n",
        "def greet(name=\"Guest\"):\n",
        "    print(f\"Hello, {name}!\")\n",
        "greet()  # Uses the default value \"Guest\"\n",
        "greet(\"Ali\")"
      ],
      "metadata": {
        "colab": {
          "base_uri": "https://localhost:8080/"
        },
        "id": "xPsCIqv_5YQW",
        "outputId": "2d736ae0-7b9c-4cee-934e-df8d2c5a17f4"
      },
      "execution_count": 16,
      "outputs": [
        {
          "output_type": "stream",
          "name": "stdout",
          "text": [
            "Hello, Guest!\n",
            "Hello, Ali!\n"
          ]
        }
      ]
    },
    {
      "cell_type": "code",
      "source": [
        "def add(a, b=5):\n",
        "    print(a + b)\n",
        "add(3)  # Uses default value for b (5)\n",
        "add(3, 2)  #"
      ],
      "metadata": {
        "colab": {
          "base_uri": "https://localhost:8080/"
        },
        "id": "IG_cw6Qw5YTf",
        "outputId": "2006c4b9-ddef-47b8-c803-e4d06c95bec0"
      },
      "execution_count": 17,
      "outputs": [
        {
          "output_type": "stream",
          "name": "stdout",
          "text": [
            "8\n",
            "5\n"
          ]
        }
      ]
    },
    {
      "cell_type": "code",
      "source": [
        "def multiply(number, multiplier=2):\n",
        "    print(number * multiplier)\n",
        "multiply(4)  # Uses default multiplier (2)\n",
        "multiply(4, 3)"
      ],
      "metadata": {
        "colab": {
          "base_uri": "https://localhost:8080/"
        },
        "id": "UChVi4cd5YWp",
        "outputId": "df8b9705-4420-43fb-a2ed-7a8ea75204c8"
      },
      "execution_count": 18,
      "outputs": [
        {
          "output_type": "stream",
          "name": "stdout",
          "text": [
            "8\n",
            "12\n"
          ]
        }
      ]
    },
    {
      "cell_type": "code",
      "source": [
        "def show_message(message, end=\"!\"):\n",
        "    print(message + end)\n",
        "show_message(\"Hello\")  # Uses default end \"!\"\n",
        "show_message(\"Hello\", \".\")  # U"
      ],
      "metadata": {
        "colab": {
          "base_uri": "https://localhost:8080/"
        },
        "id": "1Pd4k0cE5YlC",
        "outputId": "8de6403f-c0c1-4c58-9a43-991ba39b1272"
      },
      "execution_count": 19,
      "outputs": [
        {
          "output_type": "stream",
          "name": "stdout",
          "text": [
            "Hello!\n",
            "Hello.\n"
          ]
        }
      ]
    },
    {
      "cell_type": "code",
      "source": [
        "def power(base, exponent=2):\n",
        "    print(base ** exponent)\n",
        "power(3)  # Uses default exponent (2)\n",
        "power(3, 3)"
      ],
      "metadata": {
        "colab": {
          "base_uri": "https://localhost:8080/"
        },
        "id": "92ATlXSO5a2l",
        "outputId": "ab490ae2-0f22-46b1-d8f5-939882077855"
      },
      "execution_count": 20,
      "outputs": [
        {
          "output_type": "stream",
          "name": "stdout",
          "text": [
            "9\n",
            "27\n"
          ]
        }
      ]
    },
    {
      "cell_type": "code",
      "source": [
        "# TAKE INPUTS\n",
        "def greet(name):\n",
        "    print(f\"Hello, {name}!\")\n",
        "\n",
        "user_name = input(\"Enter your name: \")\n",
        "greet(user_name)"
      ],
      "metadata": {
        "colab": {
          "base_uri": "https://localhost:8080/"
        },
        "id": "1COtdoO25a5c",
        "outputId": "2d398cc2-d40a-4193-e78f-80971c5e6701"
      },
      "execution_count": 21,
      "outputs": [
        {
          "output_type": "stream",
          "name": "stdout",
          "text": [
            "Enter your name: zainab\n",
            "Hello, zainab!\n"
          ]
        }
      ]
    },
    {
      "cell_type": "code",
      "source": [
        "def add(a, b):\n",
        "    print(f\"The sum is: {a + b}\")\n",
        "\n",
        "num1 = int(input(\"Enter the first number: \"))\n",
        "num2 = int(input(\"Enter the second number: \"))\n",
        "add(num1, num2)"
      ],
      "metadata": {
        "colab": {
          "base_uri": "https://localhost:8080/"
        },
        "id": "3oRNECXi5a8f",
        "outputId": "6831da81-89d6-4841-f376-227515e67e68"
      },
      "execution_count": 22,
      "outputs": [
        {
          "output_type": "stream",
          "name": "stdout",
          "text": [
            "Enter the first number: 5\n",
            "Enter the second number: 4\n",
            "The sum is: 9\n"
          ]
        }
      ]
    },
    {
      "cell_type": "code",
      "source": [
        "def check_even_odd(number):\n",
        "    if number % 2 == 0:\n",
        "        print(f\"{number} is even.\")\n",
        "    else:\n",
        "        print(f\"{number} is odd.\")\n",
        "\n",
        "user_number = int(input(\"Enter a number: \"))\n",
        "check_even_odd(user_number)"
      ],
      "metadata": {
        "colab": {
          "base_uri": "https://localhost:8080/"
        },
        "id": "3o0Vjxvk6Kz1",
        "outputId": "1dd5aa70-30af-493a-a7b0-929ce79a46cd"
      },
      "execution_count": 23,
      "outputs": [
        {
          "output_type": "stream",
          "name": "stdout",
          "text": [
            "Enter a number: 4\n",
            "4 is even.\n"
          ]
        }
      ]
    },
    {
      "cell_type": "code",
      "source": [
        "def repeat_word(word, times):\n",
        "    print(word * times)\n",
        "\n",
        "user_word = input(\"Enter a word: \")\n",
        "repeat_count = int(input(\"Enter the number of repetitions: \"))\n",
        "repeat_word(user_word, repeat_count)"
      ],
      "metadata": {
        "colab": {
          "base_uri": "https://localhost:8080/"
        },
        "id": "JsZcN5PZ6K4e",
        "outputId": "efd4bb1b-c308-4048-b1c4-09c77ff1d211"
      },
      "execution_count": 24,
      "outputs": [
        {
          "output_type": "stream",
          "name": "stdout",
          "text": [
            "Enter a word: space\n",
            "Enter the number of repetitions: 3\n",
            "spacespacespace\n"
          ]
        }
      ]
    },
    {
      "cell_type": "code",
      "source": [
        "def calculate_area(radius):\n",
        "    area = 3.14 * radius ** 2\n",
        "    print(f\"The area of the circle is: {area}\")\n",
        "\n",
        "radius_input = float(input(\"Enter the radius of the circle: \"))\n",
        "calculate_area(radius_input)"
      ],
      "metadata": {
        "colab": {
          "base_uri": "https://localhost:8080/"
        },
        "id": "NbLpd8kO6K-t",
        "outputId": "62d785eb-ed08-4040-f18b-da6185c0e146"
      },
      "execution_count": 26,
      "outputs": [
        {
          "output_type": "stream",
          "name": "stdout",
          "text": [
            "Enter the radius of the circle: 4\n",
            "The area of the circle is: 50.24\n"
          ]
        }
      ]
    }
  ]
}